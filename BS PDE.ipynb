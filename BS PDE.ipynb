{
 "cells": [
  {
   "cell_type": "markdown",
   "metadata": {},
   "source": [
    "## Adjoint PDEs based on the example of BS PDE\n",
    "This notebook also includes the finite adjoint of the non-linear PDE satisfied by an American option. "
   ]
  },
  {
   "cell_type": "markdown",
   "metadata": {},
   "source": [
    "22 May 2021"
   ]
  },
  {
   "cell_type": "markdown",
   "metadata": {},
   "source": [
    "**Questions:** \n",
    "1. What is a good tolerance for np.isclose in the complex extension of the maximum and in the np.heaviside? 10e-16?\n",
    "\n",
    "**To Do:**\n",
    "1. Use checkpointing to reduce storage requirement (check whether I can then set N=100,000 and J=1,000)\n",
    "2. Include $K$ as an argument of the fde \n",
    "3. create a testing environment to test different payoffs for the bumping/ complex variable trick/ forward mode and reverse mode. \n",
    "\n",
    "\n",
    "**Takeaways**:\n",
    "1. There is no discretization error between the forward and the reverse mode. If there was a discretization error, the error would increase the finer I choose the grid. \n",
    "2. The computation of Greeks of American options uses the discontinuous heaviside function. Thus, rounding errors can have relevant impact. My solution is to implement a version of the heaviside function that checks whether the input of the heaviside function is zero within machine precision. Note that the numpy function heaviside checks if the input value is actually zero.\n",
    "3. Bumping and complex variable trick can vary significantly for discontinuous payoffs. In particular, for a call option close to maturity, bumping results in a delta of ca. 0.5, while the complex variable trick depends on how we define the complex maximum function for the case in which the real parts of the arguments are equal (it would be 1 using our implementation of the maximum function). \n",
    "4. Divide and conquer. Divide task to mini-functions when possible (see the initialization of B). In this manner, I can detect errors easier when verifying the forward and reverse mode. "
   ]
  },
  {
   "cell_type": "code",
   "execution_count": 61,
   "metadata": {},
   "outputs": [],
   "source": [
    "import numpy as np\n",
    "from matplotlib import pyplot as plt"
   ]
  },
  {
   "cell_type": "markdown",
   "metadata": {},
   "source": [
    "### Auxiliary functions (general)"
   ]
  },
  {
   "cell_type": "code",
   "execution_count": 62,
   "metadata": {},
   "outputs": [],
   "source": [
    "def maximum(arg1: np.array, arg2, is_complex: bool) -> np.array:\n",
    "    \"\"\"\n",
    "    Elementwise maximum of two numpy arrays or of a numpy array with an integer.\n",
    "    Defines the analytic extension of the maximum function in the complex case.\n",
    "    If the entries are complex, return the entry with the biggest real part.\n",
    "    If the real parts are equal, return the entry of the first argument. \n",
    "    \"\"\"\n",
    "    if is_complex:\n",
    "        res = []\n",
    "        if type(arg2) == np.ndarray:\n",
    "            assert arg1.shape == arg2.shape\n",
    "            #assert (np.iscomplex(x) and np.iscomplex(y))            \n",
    "            for el1, el2 in zip(arg1, arg2):\n",
    "                if el1.real >= el2.real or np.isclose(el1.real,0,atol=1e-16):\n",
    "                    res.append(el1)\n",
    "                else:\n",
    "                    res.append(el2)\n",
    "        else:\n",
    "            # arg2 is integer\n",
    "            assert type(arg2) == int\n",
    "            for el in arg1:\n",
    "                if el.real >= arg2:\n",
    "                    res.append(el)\n",
    "                else:\n",
    "                    res.append(arg2)\n",
    "        return np.array(res)\n",
    "    else: \n",
    "        return np.maximum(arg1, arg2)"
   ]
  },
  {
   "cell_type": "code",
   "execution_count": 63,
   "metadata": {},
   "outputs": [],
   "source": [
    "def check_forward_reverse_mode_identity(diff_u_list=[], u_bar_list=[], diff_A_list=[], A_bar_list = [],\n",
    "                                       diff_v_list =[], v_bar_list=[], diff_B_list=[], B_bar_list = []):\n",
    "    # diff_u_list, u_bar_list is a list of input np arrays\n",
    "    # diff_A_list, A_bar_list is a list of input nd arrays representing the input matrices \n",
    "    # diff_v_list, v_bar_list is a list of output np arrays\n",
    "    # diff_B_list, B_bar_list is a list of output nd arrays representing the output matrices \n",
    "    # to do: assert that the dimension of u_list and u_bar_list as well as A_list and A_bar_list is the same\n",
    "    sum_lhs = 0\n",
    "    for diff_u, u_bar in zip(diff_u_list, u_bar_list):\n",
    "        sum_lhs += np.dot(u_bar, diff_u)\n",
    "    for diff_A, A_bar in zip(diff_A_list, A_bar_list):\n",
    "        sum_lhs += np.trace(A_bar.transpose() @ diff_A)\n",
    "    sum_rhs = 0\n",
    "    for diff_v, v_bar in zip(diff_v_list, v_bar_list):\n",
    "        sum_rhs += np.dot(v_bar, diff_v)\n",
    "    for diff_B, B_bar in zip(diff_B_list, B_bar_list):\n",
    "        sum_rhs += np.trace(B_bar.transpose() @ diff_B)\n",
    "    #print(sum_lhs, sum_rhs)\n",
    "    err = abs(sum_lhs - sum_rhs)\n",
    "    \n",
    "    return err < 10e-15, err"
   ]
  },
  {
   "cell_type": "code",
   "execution_count": 64,
   "metadata": {},
   "outputs": [],
   "source": [
    "def heaviside_close(x1, x2):\n",
    "    closeCheck = np.isclose(x1, np.zeros_like(x1), atol=1e-16)\n",
    "    heavisideBare = np.heaviside(x1, 0.0)\n",
    "    zeroVal = np.where(closeCheck, x2, 0.0)-np.where(closeCheck, heavisideBare, np.zeros_like(heavisideBare))\n",
    "    result = heavisideBare+zeroVal\n",
    "    return result"
   ]
  },
  {
   "cell_type": "markdown",
   "metadata": {},
   "source": [
    "**Stability condition:**\n",
    "$$ \\Delta t \\leq \\Delta S^2 $$"
   ]
  },
  {
   "cell_type": "code",
   "execution_count": 79,
   "metadata": {},
   "outputs": [],
   "source": [
    "# input parameters\n",
    "S0 = 1\n",
    "T = 1\n",
    "N = 16 # number of time steps \n",
    "J = 4 # 2*J+1 is number of spatial steps\n",
    "K = 1\n",
    "\n",
    "def payoff(S: np.array, is_complex = False) -> np.array:\n",
    "    return maximum(S-K, 0, is_complex) # includes complex extension of the maximum as well\n",
    "#     return maximum(K-S, 0, is_complex)\n",
    "#     return S\n",
    "    \n",
    "def diff_payoff(S: np.array) -> np.array:\n",
    "    return np.heaviside(S-K, 1)\n",
    "#     return -np.heaviside(K-S, 1) \n",
    "#     return np.ones(S.shape)\n",
    "\n",
    "delta_S = S0/J\n",
    "delta_t = T/N\n",
    "assert(delta_t <= delta_S**2), \"No stability of the finite difference scheme\""
   ]
  },
  {
   "cell_type": "markdown",
   "metadata": {},
   "source": [
    "### Auxiliary functions (specific)"
   ]
  },
  {
   "cell_type": "code",
   "execution_count": 80,
   "metadata": {},
   "outputs": [],
   "source": [
    "def B_construction(S, sigma, r):\n",
    "    #diff = delta_t / delta_S \n",
    "    diff = J/ N # numeridally more stable\n",
    "    #diff2 = delta_t / delta_S**2\n",
    "    diff2 = J**2/N\n",
    "    a = S**2 * sigma**2 * diff2 / 2\n",
    "    b = S * r * diff / 2\n",
    "    low = a[1:] - b[1:]\n",
    "    low[-1] = - r * S[-1] * diff\n",
    "    centre = 1 - r*delta_t - 2*a\n",
    "    centre[-1] = 1 - r * delta_t + r * S[-1] * diff \n",
    "    up  = a[:-1] + b[:-1]\n",
    "    B = np.diag(low, -1) + np.diag(centre, 0) + np.diag(up, 1)\n",
    "    return B\n",
    "\n",
    "def diff_B_construction(S, sigma, r, diff_S, diff_sigma, diff_r):\n",
    "    #diff = delta_t / delta_S\n",
    "    diff = J/ N\n",
    "    #diff2 = delta_t / delta_S**2\n",
    "    diff2 = J**2/N\n",
    "    a = S**2 * (sigma * diff_sigma * diff2) + S * diff_S * (sigma**2 * diff2)\n",
    "    b = S * diff_r * diff / 2 + diff_S * r * diff / 2\n",
    "    low = a[1:] - b[1:]\n",
    "    low[-1] = - diff_r * S[-1] * diff - r * diff_S[-1] * diff\n",
    "    centre = -diff_r * delta_t - 2*a\n",
    "    centre[-1] = - diff_r * delta_t + diff_r * S[-1] * diff + r * diff_S[-1] * diff\n",
    "    up = a[:-1] + b[:-1]\n",
    "    diff_B = np.diag(low, -1) + np.diag(centre, 0) + np.diag(up, 1)\n",
    "    return diff_B\n",
    "\n",
    "def B_construction_reverse(B_bar, S_bar, S, sigma, r):\n",
    "    d = 2*J+1\n",
    "    diff = J/ N # numerically more stable\n",
    "    #diff = delta_t/delta_S\n",
    "    diff2 = J**2/N\n",
    "    #diff2 = delta_t/delta_S**2\n",
    "    sigma_bar = 0\n",
    "    r_bar = (-delta_t + diff * S[-1]) * B_bar[-1][-1] - S[-1] * diff * B_bar[-1][-2] \n",
    "    S_bar[-1] = S_bar[-1] + r * diff * (B_bar[-1][-1] - B_bar[-1][-2])\n",
    "    for j in reversed(range(d-1)):\n",
    "        if j == 0:\n",
    "            # B_bar[j-1][j] does not count\n",
    "            a_bar = - 2 * B_bar[j][j] + B_bar[j][j+1]\n",
    "            b_bar = B_bar[j][j+1]\n",
    "        else:\n",
    "            a_bar = B_bar[j][j-1] - 2 * B_bar[j][j] + B_bar[j][j+1]\n",
    "            b_bar = - B_bar[j][j-1] + B_bar[j][j+1]\n",
    "        sigma_bar = sigma_bar + sigma * S[j]**2 * diff2 * a_bar\n",
    "        S_bar[j] = S_bar[j] + sigma**2 * S[j] * diff2 * a_bar + r/2 * diff * b_bar\n",
    "        r_bar = r_bar + S[j]/2 * diff * b_bar - delta_t * B_bar[j][j]\n",
    "    return S_bar, sigma_bar, r_bar"
   ]
  },
  {
   "cell_type": "markdown",
   "metadata": {},
   "source": [
    "### BS PDE"
   ]
  },
  {
   "cell_type": "code",
   "execution_count": 81,
   "metadata": {},
   "outputs": [],
   "source": [
    "# forward pass\n",
    "def bs_pde_auxiliary(f, B, american = False, is_complex = False):\n",
    "    u = np.copy(f)\n",
    "    for n in reversed(range(N)):\n",
    "        u = np.dot(B, u)\n",
    "        u_copy = np.copy(u)\n",
    "        if american: \n",
    "            u = maximum(u, f, is_complex)\n",
    "    qoi = u[J]\n",
    "    return qoi\n",
    "\n",
    "def bs_pde(S0, sigma, r, american = False, is_complex = False):\n",
    "    S = np.array([S0 + j*delta_S for j in range(-J, J+1)])\n",
    "    B = B_construction(S, sigma, r)\n",
    "    f = payoff(S, is_complex)\n",
    "    return bs_pde_auxiliary(f, B, american, is_complex)\n",
    "\n",
    "def bs_pde_auxiliary_f(f, B, american = False):\n",
    "    u = np.copy(f)\n",
    "    u_all_list = [u]; u_hat_all_list = []\n",
    "    for n in reversed(range(N)):\n",
    "        u = np.dot(B, u)\n",
    "        if american:\n",
    "            u_hat_all_list.append(u)\n",
    "            u = maximum(u, f, is_complex = False)\n",
    "            #print(\"u_hat:\", u_hat_all_list[-1])\n",
    "        u_all_list.append(u)\n",
    "        #print(\"u:\", u_all_list[-1])\n",
    "    qoi = u[J]\n",
    "    return list(reversed(u_all_list)), list(reversed(u_hat_all_list))\n",
    "\n",
    "def bs_pde_f(S0, sigma, r, american = False):\n",
    "    S = np.array([S0 + j*delta_S for j in range(-J, J+1)])\n",
    "    B = B_construction(S, sigma, r)\n",
    "    f = payoff(S)\n",
    "    u_all_list, u_hat_all_list = bs_pde_auxiliary_f(f, B, american)\n",
    "    return S, B, u_all_list, u_hat_all_list"
   ]
  },
  {
   "cell_type": "code",
   "execution_count": 82,
   "metadata": {},
   "outputs": [],
   "source": [
    "# forward mode\n",
    "def bs_pde_auxiliary_forward(f, B, diff_f, diff_B):\n",
    "    diff_b_all_list = []\n",
    "    diff_u = diff_f\n",
    "    u = np.copy(f)\n",
    "    for n in reversed(range(N)):\n",
    "        diff_b = np.dot(diff_B, u)\n",
    "        diff_u = np.dot(B, diff_u) + diff_b\n",
    "        u = np.dot(B, u)\n",
    "        diff_b_all_list.append(diff_b)\n",
    "    diff_qoi = diff_u[J]\n",
    "    qoi = u[J]\n",
    "    return qoi, diff_qoi, list(reversed(diff_b_all_list)) #reverse diff_b list to be forward in time\n",
    "\n",
    "\n",
    "def bs_pde_forward(S0, sigma, r, diff_S0, diff_sigma, diff_r, american = False):\n",
    "    diff_S = diff_S0 * np.ones(2*J + 1)\n",
    "    S = np.array([S0 + j*delta_S for j in range(-J, J+1)])\n",
    "    diff_u = diff_payoff(S) * diff_S\n",
    "    u = payoff(S)\n",
    "    diff_B = diff_B_construction(S, sigma, r, diff_S, diff_sigma, diff_r)\n",
    "    B = B_construction(S, sigma, r)\n",
    "    for n in reversed(range(N)):\n",
    "        diff_u = np.dot(B, diff_u) + np.dot(diff_B, u)\n",
    "        u = np.dot(B, u)\n",
    "        if american: \n",
    "#             holding  = heaviside_close(u-payoff(S), 1)\n",
    "            holding  = np.heaviside(u-payoff(S), 1)\n",
    "            print(holding)\n",
    "            diff_u = diff_u * holding + diff_payoff(S) * diff_S * (1-holding) \n",
    "            u = maximum(u, payoff(S), is_complex = False)\n",
    "    diff_qoi = diff_u[J]\n",
    "    qoi = u[J]\n",
    "    return qoi, diff_qoi"
   ]
  },
  {
   "cell_type": "code",
   "execution_count": 83,
   "metadata": {},
   "outputs": [],
   "source": [
    "# reverse mode\n",
    "def bs_pde_auxiliary_b(B, qoi_bar=1):\n",
    "    d = 2*J+1\n",
    "    u_bar = np.zeros(d)\n",
    "    u_bar[J] = qoi_bar\n",
    "    b_bar_all_list = []\n",
    "    B_transpose = B.transpose()\n",
    "    for n in range(N):\n",
    "        b_bar = u_bar \n",
    "        u_bar = np.dot(B_transpose, u_bar)\n",
    "        b_bar_all_list.append(b_bar)\n",
    "    f_bar = u_bar\n",
    "    return f_bar, b_bar_all_list\n",
    "\n",
    "def bs_pde_auxiliary_reverse(B, qoi_bar=1):\n",
    "    # forward pass\n",
    "    # u_all_list = bs_pde_auxiliary_f(f, B)\n",
    "    # backward pass \n",
    "    f_bar, b_bar_all_list = bs_pde_auxiliary_b(B,qoi_bar=1)\n",
    "    return f_bar, b_bar_all_list\n",
    "    \n",
    "\n",
    "def bs_pde_b(S, sigma, r, B, u_all_list, u_hat_all_list = [], qoi_bar=1, american = False):\n",
    "    assert(not (american is True and not u_hat_all_list)), \"American option with empty u_hat list\"\n",
    "    d = 2*J+1\n",
    "    S_bar = np.zeros(d); B_bar = np.zeros((d,d))\n",
    "    u_bar = np.zeros(d)\n",
    "    u_bar[J] = qoi_bar\n",
    "    B_transpose = B.transpose()\n",
    "    for n in range(N):              \n",
    "        if american: \n",
    "            holding = heaviside_close(u_hat_all_list[n] - payoff(S), 1)\n",
    "            #print(\"holding: \", holding)\n",
    "            u_hat_bar = u_bar * holding\n",
    "            S_bar = S_bar + diff_payoff(S) * u_bar * (1 - holding)\n",
    "            B_bar = B_bar + np.outer(u_hat_bar, u_all_list[n+1])\n",
    "            u_bar = np.dot(B_transpose, u_hat_bar)\n",
    "        else: \n",
    "            B_bar = B_bar + np.outer(u_bar, u_all_list[n+1])\n",
    "            u_bar = np.dot(B_transpose, u_bar)\n",
    "    S_bar, sigma_bar, r_bar = B_construction_reverse(B_bar, S_bar, S, sigma, r)\n",
    "    S_bar = S_bar + diff_payoff(S) * u_bar # elementwise multiplication\n",
    "    S0_bar = sum(S_bar)\n",
    "    return S0_bar, sigma_bar, r_bar\n",
    "\n",
    "def bs_pde_reverse(S0, sigma, r, qoi_bar=1, american = False):\n",
    "    #forward pass \n",
    "    S, B, u_all_list, u_hat_all_list = bs_pde_f(S0, sigma, r, american)\n",
    "    #backward pass\n",
    "    S0_bar, sigma_bar, r_bar = bs_pde_b(S, sigma, r, B, u_all_list, u_hat_all_list, qoi_bar, american)\n",
    "    return S0_bar, sigma_bar, r_bar"
   ]
  },
  {
   "cell_type": "markdown",
   "metadata": {},
   "source": [
    "### Adjoint BS PDE"
   ]
  },
  {
   "cell_type": "code",
   "execution_count": 84,
   "metadata": {},
   "outputs": [],
   "source": [
    "# forward pass \n",
    "def adjoint_bs_pde_auxiliary(f, B):\n",
    "    p = np.zeros(2*J + 1)\n",
    "    p[J] = 1\n",
    "    B_transpose = B.transpose()\n",
    "    for n in range(N):\n",
    "        p = np.dot(B_transpose, p)\n",
    "    qoi = np.dot(p, f)\n",
    "    return qoi\n",
    "\n",
    "def adjoint_bs_pde(S0, sigma, r, is_complex = False):\n",
    "    S = np.array([S0 + j*delta_S for j in range(-J, J+1)])\n",
    "    B = B_construction(S, sigma, r)\n",
    "    f = payoff(S, is_complex)\n",
    "    return adjoint_bs_pde_auxiliary(f,B)\n",
    "\n",
    "\n",
    "def adjoint_bs_pde_auxiliary_f(f, B):\n",
    "    p = np.zeros(2*J + 1); p[J] = 1\n",
    "    p_all_list = [p]\n",
    "    B_transpose = B.transpose()\n",
    "    for n in range(N):\n",
    "        p = np.dot(B_transpose, p)\n",
    "        p_all_list.append(p)\n",
    "    qoi = np.dot(p, f)\n",
    "    return p_all_list\n",
    "\n",
    "\n",
    "def adjoint_bs_pde_f(S0, sigma, r):\n",
    "    S = np.array([S0 + j*delta_S for j in range(-J, J+1)])\n",
    "    B = B_construction(S, sigma, r)\n",
    "    f = payoff(S)\n",
    "    p_all_list = adjoint_bs_pde_auxiliary_f(f,B)\n",
    "    return S, B, p_all_list"
   ]
  },
  {
   "cell_type": "code",
   "execution_count": 85,
   "metadata": {},
   "outputs": [],
   "source": [
    "# forward mode\n",
    "def adjoint_bs_pde_forward(S0, sigma, r, diff_S0, diff_sigma, diff_r):\n",
    "    diff_p = np.zeros(2*J + 1)\n",
    "    p = np.zeros(2*J + 1); p[J] = 1\n",
    "    diff_S = diff_S0 * np.ones(2*J + 1)\n",
    "    S = np.array([S0 + j*delta_S for j in range(-J, J+1)])\n",
    "    diff_B_transpose = diff_B_construction(S, sigma, r, diff_S, diff_sigma, diff_r).transpose()\n",
    "    B_transpose = B_construction(S, sigma, r).transpose()\n",
    "    for n in range(N):\n",
    "        diff_p = np.dot(B_transpose, diff_p) + np.dot(diff_B_transpose, p)\n",
    "        p = np.dot(B_transpose, p)\n",
    "    diff_f = diff_payoff(S)*diff_S\n",
    "    f = payoff(S)\n",
    "    diff_qoi = np.dot(p, diff_f) + np.dot(diff_p, f)\n",
    "    qoi = np.dot(p, f)\n",
    "    return qoi, diff_qoi"
   ]
  },
  {
   "cell_type": "code",
   "execution_count": 86,
   "metadata": {},
   "outputs": [],
   "source": [
    "# reverse mode\n",
    "def adjoint_bs_pde_b(S, sigma, r, B, p_all_list, qoi_bar):\n",
    "    d = 2*J+1\n",
    "    B_transpose_bar = np.zeros((d,d))\n",
    "    S_bar = p_all_list[-1] * diff_payoff(S) * qoi_bar # first/second multiplication is elementwise/scalar\n",
    "    p_bar = payoff(S) * qoi_bar\n",
    "    for n in reversed(range(N)):\n",
    "        B_transpose_bar = B_transpose_bar + np.outer(p_bar, p_all_list[n])\n",
    "        p_bar = np.dot(B, p_bar)\n",
    "    B_bar = B_transpose_bar.transpose()\n",
    "    S_bar, sigma_bar, r_bar = B_construction_reverse(B_bar, S_bar, S, sigma, r)\n",
    "    S0_bar = sum(S_bar)\n",
    "    return S0_bar, sigma_bar, r_bar\n",
    "        \n",
    "\n",
    "def adjoint_bs_pde_reverse(S0, sigma, r, qoi_bar=1):\n",
    "    # forward pass\n",
    "    S, B, p_all_list = adjoint_bs_pde_f(S0, sigma, r)\n",
    "    # backward pass\n",
    "    S0_bar, sigma_bar, r_bar = adjoint_bs_pde_b(S, sigma, r, B, p_all_list, qoi_bar)\n",
    "    return S0_bar, sigma_bar, r_bar"
   ]
  },
  {
   "cell_type": "markdown",
   "metadata": {},
   "source": [
    "### Validation"
   ]
  },
  {
   "cell_type": "code",
   "execution_count": 90,
   "metadata": {},
   "outputs": [],
   "source": [
    "# testing parameters \n",
    "sigma = 0.1\n",
    "r = 0.1\n",
    "\n",
    "S = np.array([S0 + j*delta_S for j in range(-J, J+1)])\n",
    "f = payoff(S)\n",
    "B = B_construction(S, sigma, r)"
   ]
  },
  {
   "cell_type": "code",
   "execution_count": 91,
   "metadata": {
    "scrolled": true
   },
   "outputs": [
    {
     "name": "stdout",
     "output_type": "stream",
     "text": [
      "Difference of result between PDE and adjoint PDE:  2.7755575615628914e-17\n",
      "Difference of result between auxiliary BS PDE and adjoint auxiliary PDE:  2.7755575615628914e-17\n"
     ]
    }
   ],
   "source": [
    "# check adjoint PDE\n",
    "value = bs_pde(S0, sigma, r)\n",
    "value_adjoint = adjoint_bs_pde(S0, sigma, r)\n",
    "\n",
    "# print(\"Black-Scholes PDE (backward in time):\", value)\n",
    "# print(\"Adjoint Black Scholes PDE (forward in time):\", value_adjoint)\n",
    "print(\"Difference of result between PDE and adjoint PDE: \", abs(value - value_adjoint))\n",
    "\n",
    "value2 = bs_pde_auxiliary(f, B)\n",
    "value2_adjoint = adjoint_bs_pde_auxiliary(f, B)\n",
    "\n",
    "# print(\"Auxiliary Black-Scholes PDE 2 (backward in time):\", value2)\n",
    "# print(\"Adjoint Auxiliary Black Scholes PDE 2(forward in time):\", value2_adjoint)\n",
    "print(\"Difference of result between auxiliary BS PDE and adjoint auxiliary PDE: \", abs(value2 - value2_adjoint))"
   ]
  },
  {
   "cell_type": "code",
   "execution_count": 92,
   "metadata": {
    "scrolled": false
   },
   "outputs": [
    {
     "name": "stdout",
     "output_type": "stream",
     "text": [
      "BS PDE: difference between the complex variable trick and bumping is:  0.3739593799006036\n",
      "BS PDE (auxiliary): difference between the complex variable trick and bumping is:  7.518097255854173e-12\n",
      "American option: difference between the complex variable trick and bumping is: 0.3739593799006036\n",
      "[1. 1. 1. 1. 1. 1. 1. 1. 1.]\n",
      "[1. 1. 1. 1. 1. 1. 1. 1. 1.]\n",
      "[1. 1. 1. 1. 1. 1. 1. 1. 1.]\n",
      "[1. 1. 1. 1. 1. 1. 1. 1. 1.]\n",
      "[1. 1. 1. 1. 1. 1. 1. 1. 1.]\n",
      "[1. 1. 1. 1. 1. 1. 1. 1. 1.]\n",
      "[1. 1. 1. 1. 1. 1. 1. 1. 1.]\n",
      "[1. 1. 1. 1. 1. 1. 1. 1. 1.]\n",
      "[1. 1. 1. 1. 1. 1. 1. 1. 1.]\n",
      "[1. 1. 1. 1. 1. 1. 1. 1. 1.]\n",
      "[1. 1. 1. 1. 1. 1. 1. 1. 1.]\n",
      "[1. 1. 1. 1. 1. 1. 1. 1. 1.]\n",
      "[1. 1. 1. 1. 1. 1. 1. 1. 1.]\n",
      "[1. 1. 1. 1. 1. 1. 1. 1. 1.]\n",
      "[1. 1. 1. 1. 1. 1. 1. 1. 1.]\n",
      "[1. 1. 1. 1. 1. 1. 1. 1. 1.]\n",
      "BS PDE: difference of delta between the forward mode and complex variable trick is: 4.440892098500626e-16\n",
      "BS PDE (auxiliary): diff. of delta between the forward mode and complex variable trick is: 1.1102230246251565e-16\n",
      "American option: difference of delta between the forward mode and complex variable trick is: 4.440892098500626e-16\n",
      "Adjoint BS PDE: difference of delta between forward mode BS PDE and ajoint BS PDE is: 1.1102230246251565e-15\n"
     ]
    }
   ],
   "source": [
    "diff_S0 = 1\n",
    "diff_sigma = 0\n",
    "diff_r = 0\n",
    "diff_f = np.ones(2*J+1)\n",
    "diff_B = np.zeros((2*J+1,2*J+1))\n",
    "\n",
    "# bumping \n",
    "epsilon = 10e-7\n",
    "S0_plus = S0 + epsilon\n",
    "S0_minus = S0 - epsilon \n",
    "delta_bumping = (bs_pde(S0_plus, sigma, r) - bs_pde(S0_minus, sigma, r))/(2*epsilon)\n",
    "delta_american_bumping  = (bs_pde(S0_plus, sigma, r, True) - bs_pde(S0_minus, sigma, r, True))/(2*epsilon)\n",
    "f_plus = f + epsilon\n",
    "f_minus = f - epsilon\n",
    "delta2_bumping = (bs_pde_auxiliary(f_plus, B) - bs_pde_auxiliary(f_minus, B))/(2*epsilon)\n",
    "\n",
    "# complex variable trick\n",
    "epsilon = 10e-20\n",
    "S0_epsilon = S0 + epsilon * 1j\n",
    "delta_complex_trick = bs_pde(S0_epsilon, sigma, r, american=False, is_complex=True).imag / epsilon\n",
    "delta_american_complex_trick = bs_pde(S0_epsilon, sigma, r, american=True, is_complex=True).imag / epsilon\n",
    "f_epsilon = f + epsilon * 1j\n",
    "delta2_complex_trick = bs_pde_auxiliary(f_epsilon,B).imag / epsilon\n",
    "\n",
    "print(\"BS PDE: difference between the complex variable trick and bumping is: \", abs(delta_bumping-delta_complex_trick))\n",
    "print(\"BS PDE (auxiliary): difference between the complex variable trick and bumping is: \", abs(delta2_bumping-delta2_complex_trick))\n",
    "print(\"American option: difference between the complex variable trick and bumping is:\", abs(delta_american_bumping - delta_american_complex_trick))\n",
    "\n",
    "#check forward mode\n",
    "value, delta = bs_pde_forward(S0, sigma, r, diff_S0, diff_sigma, diff_r)\n",
    "value_american, delta_american = bs_pde_forward(S0, sigma, r, diff_S0, diff_sigma, diff_r, True)\n",
    "value2, delta2, diff_b = bs_pde_auxiliary_forward(f, B, diff_f, diff_B)\n",
    "value_adjoint, delta_adjoint = adjoint_bs_pde_forward(S0, sigma, r, diff_S0, diff_sigma, diff_r)\n",
    "\n",
    "print(\"BS PDE: difference of delta between the forward mode and complex variable trick is:\", abs(delta_complex_trick - delta))\n",
    "print(\"BS PDE (auxiliary): diff. of delta between the forward mode and complex variable trick is:\", abs(delta2_complex_trick - delta2))\n",
    "print(\"American option: difference of delta between the forward mode and complex variable trick is:\", abs(delta_american - delta_american_complex_trick))\n",
    "print(\"Adjoint BS PDE: difference of delta between forward mode BS PDE and ajoint BS PDE is:\", abs(delta_adjoint-delta))"
   ]
  },
  {
   "cell_type": "code",
   "execution_count": 41,
   "metadata": {
    "scrolled": true
   },
   "outputs": [
    {
     "name": "stdout",
     "output_type": "stream",
     "text": [
      "BS PDE: difference between the complex variable trick and bumping is:  2.9917179844574093e-12\n",
      "American option: difference between the complex variable trick and bumping is: 1.356414980335785e-12\n",
      "BS PDE: difference of delta between the forward mode and complex variable trick is: 5.551115123125783e-17\n",
      "American option: difference between the complex variable trick and bumping is 1.6653345369377348e-16\n",
      "Adjoint BS PDE: difference between forward mode BS PDE and ajoint BS PDE is: 4.440892098500626e-16\n"
     ]
    }
   ],
   "source": [
    "diff_S0 = 0\n",
    "diff_sigma = 0\n",
    "diff_r = 1\n",
    "\n",
    "# bumping \n",
    "epsilon = 10e-7\n",
    "r_plus = r + epsilon\n",
    "r_minus = r - epsilon \n",
    "rho_bumping = (bs_pde(S0, sigma, r_plus) - bs_pde(S0, sigma, r_minus))/(2*epsilon)\n",
    "rho_american_bumping  = (bs_pde(S0, sigma, r_plus, True) - bs_pde(S0, sigma, r_minus, True))/(2*epsilon)\n",
    "\n",
    "# complex variable trick\n",
    "epsilon = 10e-20\n",
    "r_epsilon = r + epsilon * 1j\n",
    "rho_complex_trick = bs_pde(S0, sigma, r_epsilon).imag / epsilon\n",
    "rho_american_complex_trick = bs_pde(S0, sigma, r_epsilon, True).imag / epsilon\n",
    "\n",
    "print(\"BS PDE: difference between the complex variable trick and bumping is: \", abs(rho_bumping-rho_complex_trick))\n",
    "print(\"American option: difference between the complex variable trick and bumping is:\", abs(rho_american_bumping - rho_american_complex_trick))\n",
    "\n",
    "#check forward mode\n",
    "value, rho = bs_pde_forward(S0, sigma, r, diff_S0, diff_sigma, diff_r)\n",
    "value_american, rho_american = bs_pde_forward(S0, sigma, r, diff_S0, diff_sigma, diff_r, True)\n",
    "value_adjoint, rho_adjoint = adjoint_bs_pde_forward(S0, sigma, r, diff_S0, diff_sigma, diff_r)\n",
    "\n",
    "print(\"BS PDE: difference of delta between the forward mode and complex variable trick is:\", abs(rho_complex_trick - rho))\n",
    "print(\"American option: difference between the complex variable trick and bumping is\", abs(rho_american_complex_trick - rho_american))\n",
    "print(\"Adjoint BS PDE: difference between forward mode BS PDE and ajoint BS PDE is:\", abs(delta_adjoint-delta))"
   ]
  },
  {
   "cell_type": "code",
   "execution_count": 42,
   "metadata": {},
   "outputs": [
    {
     "data": {
      "image/png": "[encoded data removed]",
      "text/plain": [
       "<Figure size 432x288 with 1 Axes>"
      ]
     },
     "metadata": {
      "needs_background": "light"
     },
     "output_type": "display_data"
    },
    {
     "data": {
      "image/png": "[encoded data removed]",
      "text/plain": [
       "<Figure size 432x288 with 1 Axes>"
      ]
     },
     "metadata": {
      "needs_background": "light"
     },
     "output_type": "display_data"
    }
   ],
   "source": [
    "#check bumping\n",
    "def check_bumping_bs_pde(correct, american = False):\n",
    "    x = []\n",
    "    y = []\n",
    "    for i in range(15):\n",
    "        epsilon = 10**(-i)\n",
    "        S0_plus = S0 + epsilon\n",
    "        S0_minus = S0 - epsilon \n",
    "        delta_bumping = (bs_pde(S0_plus, sigma, r, american) - bs_pde(S0_minus, sigma, r, american))/(2*epsilon)\n",
    "        err = abs(correct-delta_bumping)\n",
    "        x.append(epsilon), y.append(err)\n",
    "    plt.plot(x,y)\n",
    "    plt.xscale(\"log\")\n",
    "    plt.yscale(\"log\")\n",
    "    plt.xlabel(\"epsilon\")\n",
    "    plt.ylabel(\"error\")\n",
    "    plt.title(\"Bumping: Epsilon choice versus error\")\n",
    "    plt.show()\n",
    "\n",
    "check_bumping_bs_pde(delta_complex_trick)\n",
    "check_bumping_bs_pde(delta_american_complex_trick, True)"
   ]
  },
  {
   "cell_type": "code",
   "execution_count": 58,
   "metadata": {
    "scrolled": false
   },
   "outputs": [
    {
     "name": "stdout",
     "output_type": "stream",
     "text": [
      "BS PDE: the forward/ reverse mode identiy holds: True the error is: 2.636779683484747e-16\n",
      "BS PDE (auxiliary): diff. between the forward mode of the BS PDE and the result of the auxiliary BS PDE is: 9.71445146547012e-17\n",
      "American option: the forward/ reverse mode identity holds: True the error is 1.1102230246251565e-16\n",
      "Adjoint BS PDE: the forward/ reverse mode identity holds: True the error is 8.326672684688674e-17\n"
     ]
    }
   ],
   "source": [
    "#check reverse mode\n",
    "# qoi_bar = 1\n",
    "qoi_bar = np.random.randn()\n",
    "# diff_S0, diff_sigma, diff_r = 0, 0, 1\n",
    "diff_S0, diff_sigma, diff_r = 3 * np.random.randn(3)\n",
    "\n",
    "# BS PDE (including American)\n",
    "# forward mode\n",
    "qoi, diff_qoi = bs_pde_forward(S0, sigma, r, diff_S0, diff_sigma, diff_r)\n",
    "qoi_american, diff_qoi_american = bs_pde_forward(S0, sigma, r, diff_S0, diff_sigma, diff_r, american = True)\n",
    "qoi_adjoint, diff_qoi_adjoint = adjoint_bs_pde_forward(S0, sigma, r, diff_S0, diff_sigma, diff_r)\n",
    "# reverse mode\n",
    "u_bar = bs_pde_reverse(S0, sigma, r, qoi_bar)\n",
    "u_american_bar = bs_pde_reverse(S0, sigma, r, qoi_bar, american = True)\n",
    "u_adjoint_bar = adjoint_bs_pde_reverse(S0, sigma, r, qoi_bar)\n",
    "\n",
    "# BS PDE auxiliary \n",
    "diff_f = diff_payoff(S) * diff_S0\n",
    "diff_S = diff_S0 * np.ones(2*J+1)\n",
    "diff_B = diff_B_construction(S, sigma, r, diff_S, diff_sigma, diff_r)\n",
    "# forward mode\n",
    "qoi2, diff_qoi2, diff_b = bs_pde_auxiliary_forward(f, B, diff_f, diff_B)\n",
    "# reverse mode\n",
    "f_bar, b_bar = bs_pde_auxiliary_reverse(B, qoi_bar)\n",
    "assert len(b_bar) == len(diff_b)\n",
    "theta_bar = np.dot(f_bar, diff_f) + sum([np.dot(b_bar[i], diff_b[i]) for i in range(len(diff_b))])\n",
    "\n",
    "diff_u = diff_S0, diff_sigma, diff_r\n",
    "b, err = check_forward_reverse_mode_identity([diff_u], [u_bar], [], [], [diff_qoi], [qoi_bar], [], [])\n",
    "b_american, err_american = check_forward_reverse_mode_identity([diff_u], [u_american_bar], [], [], [diff_qoi_american], [qoi_bar], [], [])\n",
    "b_adjoint, err_adjoint = check_forward_reverse_mode_identity([diff_u], [u_adjoint_bar], [], [], [diff_qoi_adjoint], [qoi_bar], [], [])\n",
    "\n",
    "print(\"BS PDE: the forward/ reverse mode identiy holds:\", b, \"the error is:\", err)\n",
    "print(\"BS PDE (auxiliary): diff. between the forward mode of the BS PDE and the result of the auxiliary BS PDE is:\", \n",
    "      abs(theta_bar - diff_qoi))\n",
    "print(\"American option: the forward/ reverse mode identity holds:\", b_american, \"the error is\", err_american)\n",
    "print(\"Adjoint BS PDE: the forward/ reverse mode identity holds:\", b_adjoint, \"the error is\", err_adjoint)"
   ]
  }
 ],
 "metadata": {
  "kernelspec": {
   "display_name": "Python 3",
   "language": "python",
   "name": "python3"
  },
  "language_info": {
   "codemirror_mode": {
    "name": "ipython",
    "version": 3
   },
   "file_extension": ".py",
   "mimetype": "text/x-python",
   "name": "python",
   "nbconvert_exporter": "python",
   "pygments_lexer": "ipython3",
   "version": "3.7.6"
  },
  "toc": {
   "base_numbering": 1,
   "nav_menu": {},
   "number_sections": true,
   "sideBar": true,
   "skip_h1_title": false,
   "title_cell": "Table of Contents",
   "title_sidebar": "Contents",
   "toc_cell": false,
   "toc_position": {},
   "toc_section_display": true,
   "toc_window_display": false
  }
 },
 "nbformat": 4,
 "nbformat_minor": 4
}

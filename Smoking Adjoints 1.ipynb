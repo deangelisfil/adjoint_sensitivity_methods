{
 "cells": [
  {
   "cell_type": "code",
   "execution_count": 1,
   "metadata": {},
   "outputs": [],
   "source": [
    "import numpy as np\n"
   ]
  },
  {
   "cell_type": "markdown",
   "metadata": {},
   "source": [
    "#### Complex numbers:\n",
    "2 May 2021"
   ]
  },
  {
   "cell_type": "code",
   "execution_count": 2,
   "metadata": {},
   "outputs": [
    {
     "data": {
      "text/plain": [
       "(-1+0j)"
      ]
     },
     "execution_count": 2,
     "metadata": {},
     "output_type": "execute_result"
    }
   ],
   "source": [
    "1j * 1j"
   ]
  },
  {
   "cell_type": "code",
   "execution_count": 3,
   "metadata": {},
   "outputs": [],
   "source": [
    "b = complex(1,2)"
   ]
  },
  {
   "cell_type": "code",
   "execution_count": 4,
   "metadata": {},
   "outputs": [
    {
     "data": {
      "text/plain": [
       "(-2+1j)"
      ]
     },
     "execution_count": 4,
     "metadata": {},
     "output_type": "execute_result"
    }
   ],
   "source": [
    "1j * b"
   ]
  },
  {
   "cell_type": "code",
   "execution_count": 5,
   "metadata": {},
   "outputs": [
    {
     "data": {
      "text/plain": [
       "1.0"
      ]
     },
     "execution_count": 5,
     "metadata": {},
     "output_type": "execute_result"
    }
   ],
   "source": [
    "b.real"
   ]
  },
  {
   "cell_type": "code",
   "execution_count": 6,
   "metadata": {},
   "outputs": [
    {
     "data": {
      "text/plain": [
       "2.0"
      ]
     },
     "execution_count": 6,
     "metadata": {},
     "output_type": "execute_result"
    }
   ],
   "source": [
    "b.imag"
   ]
  },
  {
   "cell_type": "code",
   "execution_count": 7,
   "metadata": {},
   "outputs": [
    {
     "data": {
      "text/plain": [
       "(1-2j)"
      ]
     },
     "execution_count": 7,
     "metadata": {},
     "output_type": "execute_result"
    }
   ],
   "source": [
    "b.conjugate()"
   ]
  },
  {
   "cell_type": "code",
   "execution_count": 8,
   "metadata": {},
   "outputs": [
    {
     "data": {
      "text/plain": [
       "2.23606797749979"
      ]
     },
     "execution_count": 8,
     "metadata": {},
     "output_type": "execute_result"
    }
   ],
   "source": [
    "abs(b)"
   ]
  },
  {
   "cell_type": "code",
   "execution_count": 9,
   "metadata": {},
   "outputs": [
    {
     "data": {
      "text/plain": [
       "(-3+4j)"
      ]
     },
     "execution_count": 9,
     "metadata": {},
     "output_type": "execute_result"
    }
   ],
   "source": [
    "pow(b,2)"
   ]
  },
  {
   "cell_type": "code",
   "execution_count": 10,
   "metadata": {},
   "outputs": [
    {
     "data": {
      "text/plain": [
       "(3.165778513216168+1.959601041421606j)"
      ]
     },
     "execution_count": 10,
     "metadata": {},
     "output_type": "execute_result"
    }
   ],
   "source": [
    "import cmath\n",
    "cmath.sin(b)"
   ]
  },
  {
   "cell_type": "markdown",
   "metadata": {},
   "source": [
    "#### GBM example:"
   ]
  },
  {
   "cell_type": "markdown",
   "metadata": {},
   "source": [
    "**Questions:** \n",
    "1. Why is the approximation with a coarser time grid more precise? \n",
    "2. A more efficient way to set the random seed instead of repeating the instruction to do so? \n",
    "3. How can I use validation in a longer example? Shall I validate also f_diff and S_diff at each time step of the forward mode? How to validate f_bar and S_bar at each time step of the reverse mode?"
   ]
  },
  {
   "cell_type": "code",
   "execution_count": 11,
   "metadata": {},
   "outputs": [],
   "source": [
    "# parameters\n",
    "S = 1\n",
    "sigma = 0.2\n",
    "r = 0.05\n",
    "h = 0.1 # time-step \n",
    "T = 1 # maturity"
   ]
  },
  {
   "cell_type": "code",
   "execution_count": 12,
   "metadata": {},
   "outputs": [],
   "source": [
    "def GBM(S, sigma, r, T, t=0):\n",
    "    # simulates one value of the GBM at maturity\n",
    "    Z = np.random.normal()\n",
    "    return S * np.exp((r - sigma/2)*(T-t) + sigma * Z * (T-t))"
   ]
  },
  {
   "cell_type": "code",
   "execution_count": 13,
   "metadata": {},
   "outputs": [],
   "source": [
    "# Euler-Maruyama approximation\n",
    "def GBM_Euler_Maruyama(S, sigma, r, T, h, t=0):\n",
    "    # simulates one path of GBM\n",
    "    assert(T/h % 1 == 0)\n",
    "    N = int(T/h)\n",
    "    for n in range(N):\n",
    "        Z = np.random.normal()\n",
    "        f = 1 + r*h + sigma * np.sqrt(h) * Z\n",
    "        S = f * S\n",
    "    return S "
   ]
  },
  {
   "cell_type": "code",
   "execution_count": 14,
   "metadata": {},
   "outputs": [
    {
     "data": {
      "text/plain": [
       "1.173958356701858"
      ]
     },
     "execution_count": 14,
     "metadata": {},
     "output_type": "execute_result"
    }
   ],
   "source": [
    "np.random.seed(1)\n",
    "GBM_Euler_Maruyama(S, sigma, r, T, 0.000001)"
   ]
  },
  {
   "cell_type": "code",
   "execution_count": 188,
   "metadata": {},
   "outputs": [
    {
     "data": {
      "text/plain": [
       "1.252949258349744"
      ]
     },
     "execution_count": 188,
     "metadata": {},
     "output_type": "execute_result"
    }
   ],
   "source": [
    "np.random.seed(1)\n",
    "GBM_Euler_Maruyama(S, sigma, r, T, 0.0001)"
   ]
  },
  {
   "cell_type": "code",
   "execution_count": 189,
   "metadata": {},
   "outputs": [
    {
     "data": {
      "text/plain": [
       "1.3180921666317842"
      ]
     },
     "execution_count": 189,
     "metadata": {},
     "output_type": "execute_result"
    }
   ],
   "source": [
    "np.random.seed(1)\n",
    "GBM_Euler_Maruyama(S, sigma, r, T, 0.001)"
   ]
  },
  {
   "cell_type": "code",
   "execution_count": 190,
   "metadata": {},
   "outputs": [
    {
     "data": {
      "text/plain": [
       "1.3163583163874353"
      ]
     },
     "execution_count": 190,
     "metadata": {},
     "output_type": "execute_result"
    }
   ],
   "source": [
    "np.random.seed(1)\n",
    "GBM(S,sigma, r,T)"
   ]
  },
  {
   "cell_type": "markdown",
   "metadata": {},
   "source": [
    "##### Validation of sensitivities:"
   ]
  },
  {
   "cell_type": "markdown",
   "metadata": {},
   "source": [
    "###### Bumping"
   ]
  },
  {
   "cell_type": "markdown",
   "metadata": {},
   "source": [
    "To do: plot bumping error wrt to epsilon (find sweet spot at e^3 = 10^(-16))"
   ]
  },
  {
   "cell_type": "code",
   "execution_count": 15,
   "metadata": {},
   "outputs": [
    {
     "name": "stdout",
     "output_type": "stream",
     "text": [
      "Approximation of delta in GBM with Euler-Maruyama using bumping is:  0.9607412490286736\n",
      "Approximation of vega in GBM with Euler-Maruyama using bumping is:  -0.573796331970744\n"
     ]
    }
   ],
   "source": [
    "epsilon = 10e-6\n",
    "\n",
    "#np.random.seed(1)\n",
    "#S_minus = GBM(S-epsilon, sigma, r, T)\n",
    "#np.random.seed(1)\n",
    "#S_plus = GBM(S+epsilon, sigma, r, T)\n",
    "#delta_bumping = (S_plus-S_minus) / (2*epsilon)\n",
    "\n",
    "#np.random.seed(1)\n",
    "#sigma_plus = GBM(S, sigma+epsilon, r, T)\n",
    "#np.random.seed(1)\n",
    "#sigma_minus = GBM(S, sigma-epsilon, r, T)\n",
    "#vega_bumping = (sigma_plus-sigma_minus) / (2*epsilon)\n",
    "\n",
    "#print(\"Approximation of delta in GBM is: \", delta_bumping)\n",
    "#print(\"Approximation of vega in GBM is: \", vega_bumping)\n",
    "\n",
    "np.random.seed(1)\n",
    "S_minus = GBM_Euler_Maruyama(S-epsilon, sigma, r, T, h)\n",
    "np.random.seed(1)\n",
    "S_plus = GBM_Euler_Maruyama(S+epsilon, sigma, r, T, h)\n",
    "delta_bumping = (S_plus-S_minus) / (2*epsilon)\n",
    "\n",
    "np.random.seed(1)\n",
    "sigma_plus = GBM_Euler_Maruyama(S, sigma+epsilon, r, T, h)\n",
    "np.random.seed(1)\n",
    "sigma_minus = GBM_Euler_Maruyama(S, sigma-epsilon, r, T, h)\n",
    "vega_bumping = (sigma_plus-sigma_minus) / (2*epsilon)\n",
    "\n",
    "print(\"Approximation of delta in GBM with Euler-Maruyama using bumping is: \", delta_bumping)\n",
    "print(\"Approximation of vega in GBM with Euler-Maruyama using bumping is: \", vega_bumping)"
   ]
  },
  {
   "cell_type": "markdown",
   "metadata": {},
   "source": [
    "###### Complex variable trick"
   ]
  },
  {
   "cell_type": "code",
   "execution_count": 16,
   "metadata": {},
   "outputs": [
    {
     "name": "stdout",
     "output_type": "stream",
     "text": [
      "Approximation of delta in GBM with Euler-Maruyama using the complex variable trick is: 0.960741249027779\n",
      "Approximation of vega in GBM with Euler-Maruyama using the complex variable trick is: -0.5737963320088069\n"
     ]
    }
   ],
   "source": [
    "np.random.seed(1)\n",
    "delta_complex_trick = (GBM_Euler_Maruyama(S + epsilon * 1j, sigma, r, T, h)).imag / epsilon\n",
    "np.random.seed(1)\n",
    "vega_complex_trick = (GBM_Euler_Maruyama(S, sigma + epsilon * 1j, r, T, h)).imag / epsilon\n",
    "print(\"Approximation of delta in GBM with Euler-Maruyama using the complex variable trick is:\", delta_complex_trick)\n",
    "print(\"Approximation of vega in GBM with Euler-Maruyama using the complex variable trick is:\", vega_complex_trick)"
   ]
  },
  {
   "cell_type": "markdown",
   "metadata": {},
   "source": [
    "##### Forward Mode:"
   ]
  },
  {
   "cell_type": "code",
   "execution_count": 17,
   "metadata": {},
   "outputs": [],
   "source": [
    "def forward_mode_GBM_Euler_Maruyama(S_diff, sigma_diff, S, sigma, r, T, h, t=0):\n",
    "    assert((S_diff==0 or sigma_diff==0) and (S_diff==1 or sigma_diff==1))\n",
    "    assert(T/h % 1 == 0)\n",
    "    N = int(T/h)\n",
    "    for n in range(N):\n",
    "        Z = np.random.normal()\n",
    "        f_diff = sigma_diff * np.sqrt(h) * Z\n",
    "        f = 1 + r*h + sigma * np.sqrt(h) * Z\n",
    "        S_diff = f_diff * S + f * S_diff\n",
    "        S = f * S\n",
    "    return S_diff"
   ]
  },
  {
   "cell_type": "code",
   "execution_count": 18,
   "metadata": {},
   "outputs": [
    {
     "name": "stdout",
     "output_type": "stream",
     "text": [
      "Delta forward mode:  0.9607412490277795\n",
      "Difference to bumping:  8.941736240331011e-13\n",
      "Difference to complex variable trick:  4.440892098500626e-16\n",
      "-------------\n",
      "Vega forward mode:  -0.5737963319827681\n",
      "Difference to bumping:  1.2024159445900295e-11\n",
      "Difference to complex variable trick 2.603872673034857e-11\n",
      "-------------\n",
      "Nice improvement in accuracy using complex variable trick!\n"
     ]
    }
   ],
   "source": [
    "np.random.seed(1)\n",
    "delta = forward_mode_GBM_Euler_Maruyama(1, 0, S, sigma, r, T, h)\n",
    "np.random.seed(1)\n",
    "vega = forward_mode_GBM_Euler_Maruyama(0, 1, S, sigma, r, T, h)\n",
    "print(\"Delta forward mode: \", delta)\n",
    "print(\"Difference to bumping: \", np.abs(delta-delta_bumping))\n",
    "print(\"Difference to complex variable trick: \", np.abs(delta-delta_complex_trick))\n",
    "print(\"-------------\")\n",
    "print(\"Vega forward mode: \", vega)\n",
    "print(\"Difference to bumping: \", np.abs(vega-vega_bumping))\n",
    "print(\"Difference to complex variable trick\", np.abs(vega-vega_complex_trick))\n",
    "print(\"-------------\")\n",
    "print(\"Nice improvement in accuracy using complex variable trick!\")"
   ]
  },
  {
   "cell_type": "markdown",
   "metadata": {},
   "source": [
    "##### Reverse Mode:"
   ]
  },
  {
   "cell_type": "code",
   "execution_count": 19,
   "metadata": {},
   "outputs": [],
   "source": [
    "# forward step \n",
    "def forward_step_GBM_Euler_Maruyama(S, sigma, r, T, h, t=0):\n",
    "    S_list = [S]\n",
    "    Z_list = []\n",
    "    f_list = []\n",
    "    assert(T/h % 1 == 0)\n",
    "    N = int(T/h)\n",
    "    for n in range(N):\n",
    "        Z = np.random.normal()\n",
    "        f = 1 + r*h + sigma * np.sqrt(h) * Z\n",
    "        S = f * S\n",
    "        S_list.append(S), f_list.append(f), Z_list.append(Z)\n",
    "    return S_list, f_list, Z_list"
   ]
  },
  {
   "cell_type": "code",
   "execution_count": 20,
   "metadata": {},
   "outputs": [],
   "source": [
    "np.random.seed(1)\n",
    "S_list, f_list, Z_list = forward_step_GBM_Euler_Maruyama(S, sigma, r, T, h)"
   ]
  },
  {
   "cell_type": "code",
   "execution_count": 21,
   "metadata": {},
   "outputs": [],
   "source": [
    "# backward step\n",
    "S_bar = 1\n",
    "sigma_bar = 0\n",
    "assert(T/h % 1 == 0)\n",
    "N = int(T/h)\n",
    "for n in reversed(range(N)):\n",
    "    f_bar = S_list[n] * S_bar # by construction, we are using S_{n-1} on the right hand side\n",
    "    S_bar = f_list[n] * S_bar \n",
    "    sigma_bar += np.sqrt(h) * Z_list[n] * f_bar"
   ]
  },
  {
   "cell_type": "code",
   "execution_count": 22,
   "metadata": {},
   "outputs": [
    {
     "name": "stdout",
     "output_type": "stream",
     "text": [
      "Delta reverse mode:  0.9607412490277795 . Difference to forward mode:  0.0\n",
      "Vega reverse mode:  -0.5737963319827684 . Difference to forward mode:  2.220446049250313e-16\n"
     ]
    }
   ],
   "source": [
    "print(\"Delta reverse mode: \", S_bar, \". Difference to forward mode: \", np.abs(S_bar-delta))\n",
    "print(\"Vega reverse mode: \", sigma_bar, \". Difference to forward mode: \", np.abs(sigma_bar-vega))"
   ]
  },
  {
   "cell_type": "markdown",
   "metadata": {},
   "source": [
    "#### Least-Squares fit example: \n",
    "Goal: compute the sensitivity of the sum of squared residuals to changes the parameters of a cubic function. "
   ]
  },
  {
   "cell_type": "code",
   "execution_count": 357,
   "metadata": {},
   "outputs": [],
   "source": [
    "#parameters\n",
    "a = 0.5\n",
    "b = 0\n",
    "c = - 1\n",
    "d = 1\n",
    "data = [(0,0.5), (1,0.5), (-1, 0.5), (-2,-1), (2,3), (-0.5,1.5), (0.5,0.5), (1.5, 1.5), (-1.5, 1), (0,1)]"
   ]
  },
  {
   "cell_type": "code",
   "execution_count": 358,
   "metadata": {},
   "outputs": [],
   "source": [
    "def SSR(a, b, c, d, data):\n",
    "    SSR = 0\n",
    "    N = len(data)\n",
    "    for n in range(N):\n",
    "        x, y = data[n]\n",
    "        f = a*x**3 + b*x**2 + c*x + d\n",
    "        SSR += (f - y)**2 \n",
    "    return SSR"
   ]
  },
  {
   "cell_type": "code",
   "execution_count": 359,
   "metadata": {},
   "outputs": [
    {
     "data": {
      "text/plain": [
       "1.390625"
      ]
     },
     "execution_count": 359,
     "metadata": {},
     "output_type": "execute_result"
    }
   ],
   "source": [
    "SSR(a, b, c, d, data)"
   ]
  },
  {
   "cell_type": "markdown",
   "metadata": {},
   "source": [
    "##### Validation of sensitivities"
   ]
  },
  {
   "cell_type": "markdown",
   "metadata": {},
   "source": [
    "###### Complex variable trick"
   ]
  },
  {
   "cell_type": "code",
   "execution_count": 360,
   "metadata": {},
   "outputs": [
    {
     "name": "stdout",
     "output_type": "stream",
     "text": [
      "Approximation of sensitivity wrt a is: -2.8125000000000004\n",
      "Approximation of sensitivity wrt b is: -0.2500000000000001\n",
      "Approximation of sensitivity wrt c is: -2.25\n",
      "Approximation of sensitivity wrt d is: 2.0\n"
     ]
    }
   ],
   "source": [
    "epsilon = 10e-20\n",
    "a_complex_trick = (SSR(a + epsilon *1j, b, c, d, data)).imag / epsilon\n",
    "b_complex_trick = (SSR(a , b + epsilon *1j, c, d, data)).imag / epsilon\n",
    "c_complex_trick = (SSR(a , b, c + epsilon *1j, d, data)).imag / epsilon\n",
    "d_complex_trick = (SSR(a , b, c, d + epsilon *1j, data)).imag / epsilon\n",
    "print(\"Approximation of sensitivity wrt a is:\", a_complex_trick)\n",
    "print(\"Approximation of sensitivity wrt b is:\", b_complex_trick)\n",
    "print(\"Approximation of sensitivity wrt c is:\", c_complex_trick)\n",
    "print(\"Approximation of sensitivity wrt d is:\", d_complex_trick)"
   ]
  },
  {
   "cell_type": "markdown",
   "metadata": {},
   "source": [
    "###### Exact computation"
   ]
  },
  {
   "cell_type": "code",
   "execution_count": 405,
   "metadata": {},
   "outputs": [
    {
     "name": "stdout",
     "output_type": "stream",
     "text": [
      "Exact value of sensitivity wrt a is:  -2.8125\n",
      "Exact value of sensitivity wrt b is:  -0.25\n",
      "Exact value of sensitivity wrt c is:  -2.25\n",
      "Exact value of sensitivity wrt d is:  2.0\n"
     ]
    }
   ],
   "source": [
    "a_diff_exact = sum([2 * (f(x)-y) * x**3 for x,y in data])\n",
    "b_diff_exact = sum([2 * (f(x)-y) * x**2 for x,y in data])\n",
    "c_diff_exact = sum([2 * (f(x)-y) * x for x,y in data])\n",
    "d_diff_exact = sum([2 * (f(x)-y) for x,y in data])\n",
    "print(\"Exact value of sensitivity wrt a is: \", a_diff_exact)\n",
    "print(\"Exact value of sensitivity wrt b is: \", b_diff_exact)\n",
    "print(\"Exact value of sensitivity wrt c is: \", c_diff_exact)\n",
    "print(\"Exact value of sensitivity wrt d is: \", d_diff_exact)"
   ]
  },
  {
   "cell_type": "markdown",
   "metadata": {},
   "source": [
    "##### Forward mode"
   ]
  },
  {
   "cell_type": "code",
   "execution_count": 365,
   "metadata": {},
   "outputs": [],
   "source": [
    "def forward_mode_least_squares(a_diff, b_diff, c_diff, d_diff, a, b, c, d, data):\n",
    "    # to do: improve assertion to cover the case in which exactly one value of the var_diff is 1 and the rest is 0\n",
    "    assert a_diff + b_diff + c_diff + d_diff == 1\n",
    "    assert (a_diff == 1 or b_diff==1 or c_diff==1 or d_diff==1)\n",
    "    SSR_diff = 0\n",
    "    SSR = 0\n",
    "    N = len(data)\n",
    "    for n in range(N):\n",
    "        x, y = data[n]\n",
    "        f_diff = a_diff * x**3 + b_diff * x**2 + c_diff * x + d_diff \n",
    "        f = a*x**3 + b*x**2 + c*x + d\n",
    "        SSR_diff += 2*(f-y)*f_diff \n",
    "        SSR += (f-y)**2\n",
    "    return SSR_diff"
   ]
  },
  {
   "cell_type": "code",
   "execution_count": 368,
   "metadata": {},
   "outputs": [
    {
     "name": "stdout",
     "output_type": "stream",
     "text": [
      "Sensitivity wrt a forward mode:  -2.8125\n",
      "Difference to complex variable trick:  4.440892098500626e-16\n",
      "-------------\n",
      "Sensitivity wrt b forward mode:  -0.25\n",
      "Difference to complex variable trick:  1.1102230246251565e-16\n",
      "-------------\n",
      "Sensitivity wrt c forward mode:  -2.25\n",
      "Difference to complex variable trick:  0.0\n",
      "-------------\n",
      "Sensitivity wrt d forward mode:  2.0\n",
      "Difference to complex variable trick:  0.0\n"
     ]
    }
   ],
   "source": [
    "a_diff = forward_mode_least_squares(1, 0, 0, 0, a, b, c, d, data)\n",
    "b_diff = forward_mode_least_squares(0, 1, 0, 0, a, b, c, d, data)\n",
    "c_diff = forward_mode_least_squares(0, 0, 1, 0, a, b, c, d, data)\n",
    "d_diff = forward_mode_least_squares(0, 0, 0, 1, a, b, c, d, data)\n",
    "\n",
    "print(\"Sensitivity wrt a forward mode: \", a_diff)\n",
    "print(\"Difference to complex variable trick: \", np.abs(a_diff-a_complex_trick))\n",
    "print(\"-------------\")\n",
    "print(\"Sensitivity wrt b forward mode: \", b_diff)\n",
    "print(\"Difference to complex variable trick: \", np.abs(b_diff-b_complex_trick))\n",
    "print(\"-------------\")\n",
    "print(\"Sensitivity wrt c forward mode: \", c_diff)\n",
    "print(\"Difference to complex variable trick: \", np.abs(c_diff-c_complex_trick))\n",
    "print(\"-------------\")\n",
    "print(\"Sensitivity wrt d forward mode: \", d_diff)\n",
    "print(\"Difference to complex variable trick: \", np.abs(d_diff-d_complex_trick))\n"
   ]
  },
  {
   "cell_type": "markdown",
   "metadata": {},
   "source": [
    "##### Reverse mode"
   ]
  },
  {
   "cell_type": "code",
   "execution_count": 373,
   "metadata": {},
   "outputs": [],
   "source": [
    "# forward step \n",
    "def SSR(a, b, c, d, data):\n",
    "    SSR = 0\n",
    "    x_list = [] \n",
    "    y_list = []\n",
    "    SSR_list = [SSR]\n",
    "    f_list = [] \n",
    "    N = len(data)\n",
    "    for n in range(N):\n",
    "        x, y = data[n]\n",
    "        f = a*x**3 + b*x**2 + c*x + d\n",
    "        SSR += (f - y)**2 \n",
    "        x_list.append(x), y_list.append(y), SSR_list.append(SSR), f_list.append(f) \n",
    "    return x_list, y_list, SSR_list, f_list"
   ]
  },
  {
   "cell_type": "code",
   "execution_count": 374,
   "metadata": {},
   "outputs": [],
   "source": [
    "x_list, y_list, SSR_list, f_list = SSR(a, b, c, d, data)"
   ]
  },
  {
   "cell_type": "code",
   "execution_count": 378,
   "metadata": {},
   "outputs": [],
   "source": [
    "# backward step \n",
    "SSR_bar = 1\n",
    "a_bar = 0\n",
    "b_bar = 0\n",
    "c_bar = 0\n",
    "d_bar = 0 \n",
    "f_bar = 0\n",
    "N = len(data)\n",
    "for n in reversed(range(N)):\n",
    "    f_bar = 2*(f_list[n] - y_list[n])*SSR_bar \n",
    "    a_bar += x_list[n]**3 * f_bar\n",
    "    b_bar += x_list[n]**2 * f_bar\n",
    "    c_bar += x_list[n] * f_bar \n",
    "    d_bar += f_bar"
   ]
  },
  {
   "cell_type": "code",
   "execution_count": 384,
   "metadata": {},
   "outputs": [
    {
     "name": "stdout",
     "output_type": "stream",
     "text": [
      "Sensitivity wrt a reverse mode:  -2.8125 . Difference to forward mode:  0.0\n",
      "Sensitivity wrt b reverse mode:  -0.25 . Difference to forward mode:  0.0\n",
      "Sensitivity wrt c reverse mode:  -2.25 . Difference to forward mode:  0.0\n",
      "Sensitivity wrt d reverse mode:  2.0 . Difference to forward mode:  0.0\n",
      "---------------\n",
      "Sensitivities are computed exactly.\n"
     ]
    }
   ],
   "source": [
    "print(\"Sensitivity wrt a reverse mode: \", a_bar, \". Difference to forward mode: \", np.abs(a_bar-a_diff))\n",
    "print(\"Sensitivity wrt b reverse mode: \", b_bar, \". Difference to forward mode: \", np.abs(b_bar-b_diff))\n",
    "print(\"Sensitivity wrt c reverse mode: \", c_bar, \". Difference to forward mode: \", np.abs(c_bar-c_diff))\n",
    "print(\"Sensitivity wrt d reverse mode: \", d_bar, \". Difference to forward mode: \", np.abs(d_bar-d_diff))\n",
    "print(\"---------------\")\n",
    "print(\"Sensitivities are computed exactly.\")"
   ]
  },
  {
   "cell_type": "markdown",
   "metadata": {},
   "source": [
    "#### To do: Ornstein–Uhlenbeck example:"
   ]
  }
 ],
 "metadata": {
  "kernelspec": {
   "display_name": "Python 3",
   "language": "python",
   "name": "python3"
  },
  "language_info": {
   "codemirror_mode": {
    "name": "ipython",
    "version": 3
   },
   "file_extension": ".py",
   "mimetype": "text/x-python",
   "name": "python",
   "nbconvert_exporter": "python",
   "pygments_lexer": "ipython3",
   "version": "3.7.6"
  },
  "toc": {
   "base_numbering": 1,
   "nav_menu": {},
   "number_sections": true,
   "sideBar": true,
   "skip_h1_title": false,
   "title_cell": "Table of Contents",
   "title_sidebar": "Contents",
   "toc_cell": false,
   "toc_position": {},
   "toc_section_display": true,
   "toc_window_display": false
  }
 },
 "nbformat": 4,
 "nbformat_minor": 4
}
